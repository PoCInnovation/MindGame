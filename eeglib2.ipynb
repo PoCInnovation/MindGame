{
 "cells": [
  {
   "cell_type": "code",
   "execution_count": 6,
   "metadata": {},
   "outputs": [
    {
     "ename": "ValueError",
     "evalue": "could not convert string to float: 'Timestamp'",
     "output_type": "error",
     "traceback": [
      "\u001b[0;31m---------------------------------------------------------------------------\u001b[0m",
      "\u001b[0;31mValueError\u001b[0m                                Traceback (most recent call last)",
      "\u001b[1;32m/home/agherasie/Documents/mindgame/eeglib2.ipynb Cell 1\u001b[0m in \u001b[0;36m<cell line: 3>\u001b[0;34m()\u001b[0m\n\u001b[1;32m      <a href='vscode-notebook-cell:/home/agherasie/Documents/mindgame/eeglib2.ipynb#W0sZmlsZQ%3D%3D?line=0'>1</a>\u001b[0m \u001b[39mimport\u001b[39;00m \u001b[39meeglib\u001b[39;00m\n\u001b[0;32m----> <a href='vscode-notebook-cell:/home/agherasie/Documents/mindgame/eeglib2.ipynb#W0sZmlsZQ%3D%3D?line=2'>3</a>\u001b[0m helper \u001b[39m=\u001b[39m eeglib\u001b[39m.\u001b[39;49mhelpers\u001b[39m.\u001b[39;49mCSVHelper(\u001b[39m\"\u001b[39;49m\u001b[39m./data/Focus.csv\u001b[39;49m\u001b[39m\"\u001b[39;49m, normalize\u001b[39m=\u001b[39;49m\u001b[39mTrue\u001b[39;49;00m, highpass \u001b[39m=\u001b[39;49m \u001b[39m1\u001b[39;49m, lowpass \u001b[39m=\u001b[39;49m \u001b[39m50\u001b[39;49m, selectedSignals\u001b[39m=\u001b[39;49m[\u001b[39m\"\u001b[39;49m\u001b[39mEEG.O1\u001b[39;49m\u001b[39m\"\u001b[39;49m, \u001b[39m\"\u001b[39;49m\u001b[39mEEG.O2\u001b[39;49m\u001b[39m\"\u001b[39;49m, \u001b[39m\"\u001b[39;49m\u001b[39mEEG.F3\u001b[39;49m\u001b[39m\"\u001b[39;49m, \u001b[39m\"\u001b[39;49m\u001b[39mEEG.F4\u001b[39;49m\u001b[39m\"\u001b[39;49m])\n\u001b[1;32m      <a href='vscode-notebook-cell:/home/agherasie/Documents/mindgame/eeglib2.ipynb#W0sZmlsZQ%3D%3D?line=4'>5</a>\u001b[0m helper\u001b[39m.\u001b[39mprepareEEG(helper\u001b[39m.\u001b[39msampleRate\u001b[39m*\u001b[39m\u001b[39m2\u001b[39m)\n\u001b[1;32m      <a href='vscode-notebook-cell:/home/agherasie/Documents/mindgame/eeglib2.ipynb#W0sZmlsZQ%3D%3D?line=6'>7</a>\u001b[0m helper\u001b[39m.\u001b[39meeg\u001b[39m.\u001b[39moutputMode \u001b[39m=\u001b[39m \u001b[39m\"\u001b[39m\u001b[39mdict\u001b[39m\u001b[39m\"\u001b[39m\n",
      "File \u001b[0;32m~/.local/lib/python3.10/site-packages/eeglib/helpers.py:335\u001b[0m, in \u001b[0;36mCSVHelper.__init__\u001b[0;34m(self, path, *args, **kargs)\u001b[0m\n\u001b[1;32m    333\u001b[0m     \u001b[39mfor\u001b[39;00m row \u001b[39min\u001b[39;00m reader:\n\u001b[1;32m    334\u001b[0m         \u001b[39mfor\u001b[39;00m i, val \u001b[39min\u001b[39;00m \u001b[39menumerate\u001b[39m(row):\n\u001b[0;32m--> 335\u001b[0m             data[i]\u001b[39m.\u001b[39mappend(\u001b[39mfloat\u001b[39;49m(val))\n\u001b[1;32m    336\u001b[0m \u001b[39m#Checking if first row is for channels names\u001b[39;00m\n\u001b[1;32m    337\u001b[0m \u001b[39mtry\u001b[39;00m:\n",
      "\u001b[0;31mValueError\u001b[0m: could not convert string to float: 'Timestamp'"
     ]
    }
   ],
   "source": [
    "import eeglib\n",
    "\n",
    "helper = eeglib.helpers.CSVHelper(\"./data/Focus.csv\", normalize=True, highpass = 1, lowpass = 50, selectedSignals=[\"EEG.O1\", \"EEG.O2\", \"EEG.F3\", \"EEG.F4\"])\n",
    "\n",
    "helper.prepareEEG(helper.sampleRate*2)\n",
    "\n",
    "helper.eeg.outputMode = \"dict\"\n",
    "\n",
    "wrap = eeglib.wrapper.Wrapper(helper[::\"0.5\"], segmentation=[((\"0\", \"5\"), 0), ((\"5\", \"11\"), 1)])\n",
    "\n",
    "wrap.addFeature.bandPower(hideArgs = True)\n",
    "data = wrap.getAllFeatures()"
   ]
  },
  {
   "cell_type": "code",
   "execution_count": null,
   "metadata": {},
   "outputs": [],
   "source": []
  }
 ],
 "metadata": {
  "kernelspec": {
   "display_name": "Python 3.10.4 64-bit",
   "language": "python",
   "name": "python3"
  },
  "language_info": {
   "codemirror_mode": {
    "name": "ipython",
    "version": 3
   },
   "file_extension": ".py",
   "mimetype": "text/x-python",
   "name": "python",
   "nbconvert_exporter": "python",
   "pygments_lexer": "ipython3",
   "version": "3.10.4"
  },
  "orig_nbformat": 4,
  "vscode": {
   "interpreter": {
    "hash": "916dbcbb3f70747c44a77c7bcd40155683ae19c65e1c03b4aa3499c5328201f1"
   }
  }
 },
 "nbformat": 4,
 "nbformat_minor": 2
}

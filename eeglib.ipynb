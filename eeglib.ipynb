{
 "cells": [
  {
   "cell_type": "code",
   "execution_count": 37,
   "metadata": {},
   "outputs": [],
   "source": [
    "# %pip install eeglib\n",
    "\n",
    "from eeglib.helpers import CSVHelper\n",
    "from eeglib.helpers import EDFHelper\n",
    "import pandas as pd "
   ]
  },
  {
   "cell_type": "code",
   "execution_count": 38,
   "metadata": {},
   "outputs": [],
   "source": [
    "file = pd.read_csv(\"data/Focus.csv\", skiprows=1,\n",
    "                    usecols=['EEG.Cz', 'EEG.Fz', 'EEG.Fp1', 'EEG.F7',\n",
    "                            'EEG.F3', 'EEG.FC1', 'EEG.C3', 'EEG.FC5',\n",
    "                            'EEG.FT9', 'EEG.T7', 'EEG.CP5', 'EEG.CP1',\n",
    "                            'EEG.P3', 'EEG.P7', 'EEG.PO9', 'EEG.O1',\n",
    "                            'EEG.Pz', 'EEG.Oz', 'EEG.O2', 'EEG.PO10',\n",
    "                            'EEG.P8', 'EEG.P4', 'EEG.CP2', 'EEG.CP6',\n",
    "                            'EEG.T8', 'EEG.FT10', 'EEG.FC6', 'EEG.C4',\n",
    "                            'EEG.FC2', 'EEG.F4', 'EEG.F8', 'EEG.Fp2'])\n",
    "            \n",
    "file.to_csv('output.csv')"
   ]
  },
  {
   "cell_type": "code",
   "execution_count": 65,
   "metadata": {},
   "outputs": [],
   "source": [
    "helper = CSVHelper(\"output.csv\", normalize = True, highpass = 1, lowpass = 50)"
   ]
  },
  {
   "cell_type": "code",
   "execution_count": 69,
   "metadata": {},
   "outputs": [
    {
     "data": {
      "text/plain": [
       "['',\n",
       " 'EEG.Cz',\n",
       " 'EEG.Fz',\n",
       " 'EEG.Fp1',\n",
       " 'EEG.F7',\n",
       " 'EEG.F3',\n",
       " 'EEG.FC1',\n",
       " 'EEG.C3',\n",
       " 'EEG.FC5',\n",
       " 'EEG.FT9',\n",
       " 'EEG.T7',\n",
       " 'EEG.CP5',\n",
       " 'EEG.CP1',\n",
       " 'EEG.P3',\n",
       " 'EEG.P7',\n",
       " 'EEG.PO9',\n",
       " 'EEG.O1',\n",
       " 'EEG.Pz',\n",
       " 'EEG.Oz',\n",
       " 'EEG.O2',\n",
       " 'EEG.PO10',\n",
       " 'EEG.P8',\n",
       " 'EEG.P4',\n",
       " 'EEG.CP2',\n",
       " 'EEG.CP6',\n",
       " 'EEG.T8',\n",
       " 'EEG.FT10',\n",
       " 'EEG.FC6',\n",
       " 'EEG.C4',\n",
       " 'EEG.FC2',\n",
       " 'EEG.F4',\n",
       " 'EEG.F8',\n",
       " 'EEG.Fp2']"
      ]
     },
     "execution_count": 69,
     "metadata": {},
     "output_type": "execute_result"
    }
   ],
   "source": [
    "helper.getNames()"
   ]
  },
  {
   "cell_type": "code",
   "execution_count": 67,
   "metadata": {},
   "outputs": [
    {
     "name": "stdout",
     "output_type": "stream",
     "text": [
      "[1.00000093 1.00004995 1.00004625 1.00003978 1.0000481  1.00004255\n",
      " 1.00004995 1.0000481  1.00004579 1.00005411 1.00005134 1.00005504\n",
      " 1.0000481  1.00005642 1.00005319 1.00004533 1.00004579 1.00005365\n",
      " 1.00005041 1.00005319 1.00004671 1.00005087 1.00005365 1.00005457\n",
      " 1.00005272 1.00005087 1.0000518  1.00005087 1.00005735 1.0000518\n",
      " 1.0000444  1.0000481  1.0000407 ]\n"
     ]
    }
   ],
   "source": [
    "for eeg in helper:\n",
    "    print(eeg.PFD())"
   ]
  },
  {
   "cell_type": "code",
   "execution_count": 70,
   "metadata": {},
   "outputs": [
    {
     "ename": "KeyError",
     "evalue": "\"None of ['window_id'] are in the columns\"",
     "output_type": "error",
     "traceback": [
      "\u001b[0;31m---------------------------------------------------------------------------\u001b[0m",
      "\u001b[0;31mKeyError\u001b[0m                                  Traceback (most recent call last)",
      "\u001b[1;32m/home/agherasie/Documents/mindgame/eeglib.ipynb Cell 6\u001b[0m in \u001b[0;36m<cell line: 10>\u001b[0;34m()\u001b[0m\n\u001b[1;32m      <a href='vscode-notebook-cell:/home/agherasie/Documents/mindgame/eeglib.ipynb#X10sZmlsZQ%3D%3D?line=6'>7</a>\u001b[0m wrapper\u001b[39m.\u001b[39maddFeature\u001b[39m.\u001b[39mHFD([\u001b[39m0\u001b[39m,\u001b[39m2\u001b[39m,\u001b[39m8\u001b[39m,\u001b[39m10\u001b[39m])\n\u001b[1;32m      <a href='vscode-notebook-cell:/home/agherasie/Documents/mindgame/eeglib.ipynb#X10sZmlsZQ%3D%3D?line=7'>8</a>\u001b[0m wrapper\u001b[39m.\u001b[39maddFeature\u001b[39m.\u001b[39mDTW((\u001b[39m0\u001b[39m,\u001b[39m1\u001b[39m))\n\u001b[0;32m---> <a href='vscode-notebook-cell:/home/agherasie/Documents/mindgame/eeglib.ipynb#X10sZmlsZQ%3D%3D?line=9'>10</a>\u001b[0m data \u001b[39m=\u001b[39m wrapper\u001b[39m.\u001b[39;49mgetAllFeatures()\n",
      "File \u001b[0;32m~/.local/lib/python3.10/site-packages/eeglib/wrapper.py:352\u001b[0m, in \u001b[0;36mWrapper.getAllFeatures\u001b[0;34m(self)\u001b[0m\n\u001b[1;32m    349\u001b[0m     data\u001b[39m=\u001b[39m\u001b[39mself\u001b[39m\u001b[39m.\u001b[39mstoredFeatures\n\u001b[1;32m    351\u001b[0m df \u001b[39m=\u001b[39m pd\u001b[39m.\u001b[39mDataFrame(data)\n\u001b[0;32m--> 352\u001b[0m df\u001b[39m.\u001b[39;49mset_index(\u001b[39mself\u001b[39;49m\u001b[39m.\u001b[39;49m_indexName, inplace\u001b[39m=\u001b[39;49m\u001b[39mTrue\u001b[39;49;00m)\n\u001b[1;32m    353\u001b[0m \u001b[39mreturn\u001b[39;00m df\n",
      "File \u001b[0;32m~/.local/lib/python3.10/site-packages/pandas/util/_decorators.py:311\u001b[0m, in \u001b[0;36mdeprecate_nonkeyword_arguments.<locals>.decorate.<locals>.wrapper\u001b[0;34m(*args, **kwargs)\u001b[0m\n\u001b[1;32m    305\u001b[0m \u001b[39mif\u001b[39;00m \u001b[39mlen\u001b[39m(args) \u001b[39m>\u001b[39m num_allow_args:\n\u001b[1;32m    306\u001b[0m     warnings\u001b[39m.\u001b[39mwarn(\n\u001b[1;32m    307\u001b[0m         msg\u001b[39m.\u001b[39mformat(arguments\u001b[39m=\u001b[39marguments),\n\u001b[1;32m    308\u001b[0m         \u001b[39mFutureWarning\u001b[39;00m,\n\u001b[1;32m    309\u001b[0m         stacklevel\u001b[39m=\u001b[39mstacklevel,\n\u001b[1;32m    310\u001b[0m     )\n\u001b[0;32m--> 311\u001b[0m \u001b[39mreturn\u001b[39;00m func(\u001b[39m*\u001b[39;49margs, \u001b[39m*\u001b[39;49m\u001b[39m*\u001b[39;49mkwargs)\n",
      "File \u001b[0;32m~/.local/lib/python3.10/site-packages/pandas/core/frame.py:5494\u001b[0m, in \u001b[0;36mDataFrame.set_index\u001b[0;34m(self, keys, drop, append, inplace, verify_integrity)\u001b[0m\n\u001b[1;32m   5491\u001b[0m                 missing\u001b[39m.\u001b[39mappend(col)\n\u001b[1;32m   5493\u001b[0m \u001b[39mif\u001b[39;00m missing:\n\u001b[0;32m-> 5494\u001b[0m     \u001b[39mraise\u001b[39;00m \u001b[39mKeyError\u001b[39;00m(\u001b[39mf\u001b[39m\u001b[39m\"\u001b[39m\u001b[39mNone of \u001b[39m\u001b[39m{\u001b[39;00mmissing\u001b[39m}\u001b[39;00m\u001b[39m are in the columns\u001b[39m\u001b[39m\"\u001b[39m)\n\u001b[1;32m   5496\u001b[0m \u001b[39mif\u001b[39;00m inplace:\n\u001b[1;32m   5497\u001b[0m     frame \u001b[39m=\u001b[39m \u001b[39mself\u001b[39m\n",
      "\u001b[0;31mKeyError\u001b[0m: \"None of ['window_id'] are in the columns\""
     ]
    }
   ],
   "source": [
    "import eeglib\n",
    "\n",
    "wrapper = eeglib.wrapper.Wrapper(helper)\n",
    "wrapper = eeglib.wrapper.Wrapper(helper)\n",
    "\n",
    "wrapper.addFeature.PFD()\n",
    "wrapper.addFeature.HFD([0,2,8,10])\n",
    "wrapper.addFeature.DTW((0,1))\n",
    "\n",
    "data = wrapper.getAllFeatures()"
   ]
  }
 ],
 "metadata": {
  "kernelspec": {
   "display_name": "Python 3.10.4 64-bit",
   "language": "python",
   "name": "python3"
  },
  "language_info": {
   "codemirror_mode": {
    "name": "ipython",
    "version": 3
   },
   "file_extension": ".py",
   "mimetype": "text/x-python",
   "name": "python",
   "nbconvert_exporter": "python",
   "pygments_lexer": "ipython3",
   "version": "3.10.4"
  },
  "orig_nbformat": 4,
  "vscode": {
   "interpreter": {
    "hash": "31f2aee4e71d21fbe5cf8b01ff0e069b9275f58929596ceb00d14d90e3e16cd6"
   }
  }
 },
 "nbformat": 4,
 "nbformat_minor": 2
}

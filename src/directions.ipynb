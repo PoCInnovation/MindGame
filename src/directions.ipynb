{
 "cells": [
  {
   "cell_type": "code",
   "execution_count": null,
   "metadata": {
    "pycharm": {
     "name": "#%%\n"
    }
   },
   "outputs": [],
   "source": [
    "%pip install matplotlib tqdm\n",
    "\n",
    "import matplotlib.pyplot as plt\n",
    "import preprocess as pp\n",
    "import neuralnetwork as nn\n",
    "from train import train_network"
   ]
  },
  {
   "cell_type": "code",
   "execution_count": null,
   "metadata": {
    "pycharm": {
     "name": "#%%\n"
    }
   },
   "outputs": [],
   "source": [
    "train_set = pp.convert_dataset(\"../data/Training02/Training02A_EPOCFLEX_159242_2022.05.24T16.06.19+02.00.md.bp.csv\")\n",
    "train_set = train_set[0:2800]\n",
    "plt.plot(train_set)\n",
    "plt.show()"
   ]
  },
  {
   "cell_type": "markdown",
   "metadata": {
    "pycharm": {
     "name": "#%% md\n"
    }
   },
   "source": [
    "Above you can see the 32 different electrodes' signals."
   ]
  },
  {
   "cell_type": "code",
   "execution_count": null,
   "metadata": {
    "pycharm": {
     "name": "#%%\n"
    }
   },
   "outputs": [],
   "source": [
    "IDLE = 0\n",
    "FRONT = 1\n",
    "BACK = 2\n",
    "JUMP = 3\n",
    "\n",
    "def labelize_set(train_set):\n",
    "    result = list()\n",
    "    for index, element in enumerate(train_set):\n",
    "        if (index >= 0 and index < 378):\n",
    "            result.append((element, FRONT))\n",
    "        if (index >= 378 and index < 1146):\n",
    "            result.append((element, IDLE))\n",
    "        if (index >= 1146 and index < 1530):\n",
    "            result.append((element, BACK))\n",
    "        if (index >= 1530 and index < 2298):\n",
    "            result.append((element, IDLE))\n",
    "        if (index >= 2298 and index < 2682):\n",
    "            result.append((element, JUMP))\n",
    "        # if (index >= 2682 and index < 3834):\n",
    "        #     result.append((element, IDLE))\n",
    "        if (index >= 3834 and index < 4218):\n",
    "            result.append((element, FRONT))\n",
    "        # if (index >= 4218 and index < 4986):\n",
    "        #     result.append((element, IDLE))\n",
    "        if (index >= 4986 and index < 5369):\n",
    "            result.append((element, BACK))\n",
    "        # if (index >= 5369 and index < 6137):\n",
    "        #     result.append((element, IDLE))\n",
    "        if (index >= 6137 and index < 6521):\n",
    "            result.append((element, JUMP))\n",
    "        # if (index >= 6521 and index < 7673):\n",
    "        #     result.append((element, IDLE))\n",
    "    return result\n",
    "    \n",
    "labelled_set = labelize_set(train_set=train_set)\n"
   ]
  },
  {
   "cell_type": "markdown",
   "metadata": {
    "pycharm": {
     "name": "#%% md\n"
    }
   },
   "source": [
    "Applying labels to data was quite cumbersome since we didn't use the software's keystroke functionality.\n",
    "I commented much of the **IDLE** phases because they were unnecessary."
   ]
  },
  {
   "cell_type": "code",
   "execution_count": null,
   "metadata": {
    "pycharm": {
     "name": "#%%\n"
    }
   },
   "outputs": [],
   "source": [
    "train_set, test_set = pp.split_data(labelled_set)\n",
    "\n",
    "network = nn.LabelNetwork(label_count=4)\n",
    "network, train_accuracies, test_accuracies = train_network(train_set=train_set, test_set=test_set, epoch=100, learning_rate=0.05, batch_size=64, network=network)\n",
    "\n",
    "plt.plot(train_accuracies)\n",
    "plt.plot(test_accuracies)"
   ]
  },
  {
   "cell_type": "markdown",
   "metadata": {
    "pycharm": {
     "name": "#%% md\n"
    }
   },
   "source": [
    "The accuracy increases from ~60 to 80 in 100 epochs and reaches as far as 95% in 500 epochs.\n",
    "This result is pretty good but the network used was maybe not the most adapted..."
   ]
  },
  {
   "cell_type": "code",
   "execution_count": null,
   "metadata": {
    "pycharm": {
     "name": "#%%\n"
    }
   },
   "outputs": [],
   "source": [
    "train_accuracies[-1]"
   ]
  },
  {
   "cell_type": "code",
   "execution_count": null,
   "metadata": {
    "pycharm": {
     "name": "#%%\n"
    }
   },
   "outputs": [],
   "source": [
    "max(train_accuracies)"
   ]
  }
 ],
 "metadata": {
  "kernelspec": {
   "display_name": "Python 3 (ipykernel)",
   "language": "python",
   "name": "python3"
  },
  "language_info": {
   "codemirror_mode": {
    "name": "ipython",
    "version": 3
   },
   "file_extension": ".py",
   "mimetype": "text/x-python",
   "name": "python",
   "nbconvert_exporter": "python",
   "pygments_lexer": "ipython3",
   "version": "3.8.13"
  },
  "vscode": {
   "interpreter": {
    "hash": "916dbcbb3f70747c44a77c7bcd40155683ae19c65e1c03b4aa3499c5328201f1"
   }
  }
 },
 "nbformat": 4,
 "nbformat_minor": 2
}
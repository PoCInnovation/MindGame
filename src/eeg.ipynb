{
 "cells": [
  {
   "cell_type": "code",
   "execution_count": null,
   "metadata": {
    "pycharm": {
     "name": "#%%\n"
    }
   },
   "outputs": [],
   "source": [
    "%pip install matplotlib tqdm\n",
    "\n",
    "import matplotlib.pyplot as plt\n",
    "import preprocess as pp\n",
    "import torch\n",
    "from write_data import write_data\n",
    "from train import train_network"
   ]
  },
  {
   "cell_type": "code",
   "execution_count": null,
   "metadata": {
    "pycharm": {
     "name": "#%%\n"
    }
   },
   "outputs": [],
   "source": [
    "train_set = pp.convert_dataset(\"../data/Focus.csv\")\n",
    "mean_values = pp.get_mean_values(train_set)\n",
    "plt.plot(mean_values)\n",
    "plt.show()"
   ]
  },
  {
   "cell_type": "code",
   "execution_count": null,
   "metadata": {
    "pycharm": {
     "name": "#%%\n"
    }
   },
   "outputs": [],
   "source": [
    "plt.plot(train_set)\n",
    "plt.show()"
   ]
  },
  {
   "cell_type": "code",
   "execution_count": null,
   "metadata": {
    "pycharm": {
     "name": "#%%\n"
    }
   },
   "outputs": [],
   "source": [
    "def labelize_set(train_set):\n",
    "    result = list()\n",
    "    for index, element in enumerate(train_set):\n",
    "        if index < 1500 or (index > 3900 and index < 5400):\n",
    "            result.append((element, 0))\n",
    "        else:\n",
    "            result.append((element, 1))\n",
    "    return result\n",
    "    \n",
    "labelled_set = labelize_set(train_set)\n",
    "focusedCount = 0\n",
    "for signals, labels in labelled_set:\n",
    "    if labels == 0:\n",
    "        focusedCount+=1\n",
    "\n",
    "write_data(labelled_set, \"../models/focusdata.csv\")"
   ]
  },
  {
   "cell_type": "code",
   "execution_count": null,
   "metadata": {
    "pycharm": {
     "name": "#%%\n"
    }
   },
   "outputs": [],
   "source": [
    "from load_data import load_dataset\n",
    "\n",
    "dataset = load_dataset(\"../models/focusdata.csv\")"
   ]
  },
  {
   "cell_type": "code",
   "execution_count": null,
   "metadata": {
    "pycharm": {
     "is_executing": true,
     "name": "#%%\n"
    }
   },
   "outputs": [],
   "source": [
    "from neuralnetwork import RNNNetwork, NeuralNetwork\n",
    "\n",
    "RNN = True\n",
    "\n",
    "network = [RNNNetwork(label_count=4) if RNN else NeuralNetwork()]\n",
    "\n",
    "train_set, test_set = pp.split_data(labelled_set)\n",
    "\n",
    "network, train_accuracies, test_accuracies = train_network(network=network, train_set=train_set, test_set=test_set, epoch=20, learning_rate=0.05, batch_size=64)\n",
    "\n",
    "plt.plot(train_accuracies)\n",
    "plt.plot(test_accuracies)"
   ]
  },
  {
   "cell_type": "markdown",
   "metadata": {
    "pycharm": {
     "name": "#%% md\n"
    }
   },
   "source": [
    "Clearly, there is no reason to go beyond 20 epochs: the model trains very well rather quickly."
   ]
  },
  {
   "cell_type": "code",
   "execution_count": null,
   "metadata": {
    "pycharm": {
     "is_executing": true,
     "name": "#%%\n"
    }
   },
   "outputs": [],
   "source": [
    "train_accuracies[-1]"
   ]
  },
  {
   "cell_type": "code",
   "execution_count": null,
   "metadata": {
    "pycharm": {
     "is_executing": true,
     "name": "#%%\n"
    }
   },
   "outputs": [],
   "source": [
    "max(train_accuracies)"
   ]
  },
  {
   "cell_type": "code",
   "execution_count": null,
   "metadata": {
    "pycharm": {
     "name": "#%%\n"
    }
   },
   "outputs": [],
   "source": [
    "torch.save(network.state_dict(), \"../models/network.pt\")"
   ]
  }
 ],
 "metadata": {
  "kernelspec": {
   "display_name": "Python 3 (ipykernel)",
   "language": "python",
   "name": "python3"
  },
  "language_info": {
   "codemirror_mode": {
    "name": "ipython",
    "version": 3
   },
   "file_extension": ".py",
   "mimetype": "text/x-python",
   "name": "python",
   "nbconvert_exporter": "python",
   "pygments_lexer": "ipython3",
   "version": "3.8.13"
  },
  "vscode": {
   "interpreter": {
    "hash": "916dbcbb3f70747c44a77c7bcd40155683ae19c65e1c03b4aa3499c5328201f1"
   }
  }
 },
 "nbformat": 4,
 "nbformat_minor": 2
}
